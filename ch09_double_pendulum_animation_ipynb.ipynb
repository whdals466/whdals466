{
 "cells": [
  {
   "cell_type": "markdown",
   "metadata": {
    "colab_type": "text",
    "id": "m-PrA3rkCZdf"
   },
   "source": [
    "[![Open In Colab](https://colab.research.google.com/assets/colab-badge.svg)](https://colab.research.google.com/github/SeoulTechPSE/EngNm/blob/master/ch09_animation/ch09_double_pendulum_animation.ipynb)"
   ]
  },
  {
   "cell_type": "code",
   "execution_count": 1,
   "metadata": {
    "colab": {},
    "colab_type": "code",
    "id": "Rhe9bTA6DSRh"
   },
   "outputs": [],
   "source": [
    "%matplotlib qt\n",
    "import matplotlib.pyplot as plt\n",
    "import matplotlib as mpl\n",
    "\n",
    "import numpy as np\n",
    "from scipy import integrate\n",
    "import sympy\n",
    "sympy.init_printing()"
   ]
  },
  {
   "cell_type": "markdown",
   "metadata": {
    "colab_type": "text",
    "id": "sAfXeISCCZdl"
   },
   "source": [
    "## Double Pendulum"
   ]
  },
  {
   "cell_type": "markdown",
   "metadata": {
    "colab_type": "text",
    "id": "joW_BHlECZdq"
   },
   "source": [
    "Consider the rather complicated system of two coupled second-order and nonlinear ODEs for a double\n",
    "pendulum\n",
    "\n",
    "$~$\n",
    "\n",
    "<center><img src=\"https://github.com/SeoulTechPSE/EngNm/blob/master/figs/dimg270.gif?raw=1\" width=\"300\"></center> \n",
    "\n",
    "$$\n",
    "(m_1+m_2) l_1\\ddot{\\theta_1} + m_2l_2\\ddot{\\theta_2}\\cos(\\theta_1-\\theta_2)\n",
    "+ m_2l_2\\left(\\dot{\\theta_2}\\right)^2\\sin(\\theta_1-\\theta_2)+g(m_1+m_2)\\sin(\\theta_1) = 0\n",
    "$$\n",
    "\n",
    "$$\n",
    "m_2l_2\\ddot{\\theta_2} + m_2l_1\\ddot{\\theta_1}\\cos(\\theta_1-\\theta_2) - m_2l_1 \\left(\\dot{\\theta_1}\\right)^2 \\sin(\\theta_1-\\theta_2)\n",
    "+m_2g\\sin(\\theta_2) = 0\n",
    "$$"
   ]
  },
  {
   "cell_type": "markdown",
   "metadata": {
    "colab_type": "text",
    "id": "J8N8Fhr0CZdy"
   },
   "source": [
    "1. We first have to write the system of two second-order ODEs as a system of four first-order ODEs on standard form. To this end, we need to introduce new functions $\\text{ }y_1(t) = \\theta_1(t)$, $\\text{ }y_2(t) = \\dot{\\theta_1}(t)$, $\\text{ }y_3(t) = \\theta_2(t)$, $\\text{ }y_4(t) = \\dot{\\theta_2}(t)$, $\\text{ }$and rewrite the ODEs in terms of these functions."
   ]
  },
  {
   "cell_type": "code",
   "execution_count": 2,
   "metadata": {
    "colab": {
     "base_uri": "https://localhost:8080/",
     "height": 42
    },
    "colab_type": "code",
    "id": "Jl__w7VZDOqw",
    "outputId": "44da2dda-7afa-4d68-deec-3b9d5c888017"
   },
   "outputs": [
    {
     "name": "stderr",
     "output_type": "stream",
     "text": [
      "C:\\Users\\whdal\\anaconda3\\lib\\site-packages\\sympy\\core\\relational.py:470: SymPyDeprecationWarning: \n",
      "\n",
      "Eq(expr) with rhs default to 0 has been deprecated since SymPy 1.5.\n",
      "Use Eq(expr, 0) instead. See\n",
      "https://github.com/sympy/sympy/issues/16587 for more info.\n",
      "\n",
      "  deprecated_since_version=\"1.5\"\n"
     ]
    },
    {
     "data": {
      "image/png": "[encoded data removed]",
      "text/latex": [
       "$\\displaystyle g \\left(m_{1} + m_{2}\\right) \\sin{\\left(\\theta_{1}{\\left(t \\right)} \\right)} + l_{1} \\left(m_{1} + m_{2}\\right) \\frac{d^{2}}{d t^{2}} \\theta_{1}{\\left(t \\right)} + l_{2} m_{2} \\sin{\\left(\\theta_{1}{\\left(t \\right)} - \\theta_{2}{\\left(t \\right)} \\right)} \\left(\\frac{d}{d t} \\theta_{2}{\\left(t \\right)}\\right)^{2} + l_{2} m_{2} \\cos{\\left(\\theta_{1}{\\left(t \\right)} - \\theta_{2}{\\left(t \\right)} \\right)} \\frac{d^{2}}{d t^{2}} \\theta_{2}{\\left(t \\right)} = 0$"
      ],
      "text/plain": [
       "                                        2                                     \n",
       "                                       d                                    ⎛d\n",
       "g⋅(m₁ + m₂)⋅sin(θ₁(t)) + l₁⋅(m₁ + m₂)⋅───(θ₁(t)) + l₂⋅m₂⋅sin(θ₁(t) - θ₂(t))⋅⎜─\n",
       "                                        2                                   ⎝d\n",
       "                                      dt                                      \n",
       "\n",
       "         2                              2           \n",
       "        ⎞                              d            \n",
       "─(θ₂(t))⎟  + l₂⋅m₂⋅cos(θ₁(t) - θ₂(t))⋅───(θ₂(t)) = 0\n",
       "t       ⎠                               2           \n",
       "                                      dt            "
      ]
     },
     "execution_count": 2,
     "metadata": {},
     "output_type": "execute_result"
    }
   ],
   "source": [
    "t, g, m1, l1, m2, l2 = sympy.symbols(\"t, g, m_1, l_1, m_2, l_2\")\n",
    "theta1, theta2 = sympy.symbols(\"theta_1, theta_2\", cls=sympy.Function)\n",
    "\n",
    "ode1 = sympy.Eq((m1 + m2)*l1*theta1(t).diff(t,t) +\n",
    "                m2*l2*theta2(t).diff(t,t)*sympy.cos(theta1(t) -theta2(t)) +\n",
    "                m2*l2*theta2(t).diff(t)**2*sympy.sin(theta1(t) - theta2(t)) + \n",
    "                g*(m1 + m2)*sympy.sin(theta1(t)))\n",
    "ode1"
   ]
  },
  {
   "cell_type": "code",
   "execution_count": 3,
   "metadata": {
    "colab": {
     "base_uri": "https://localhost:8080/",
     "height": 42
    },
    "colab_type": "code",
    "id": "rpDNaY9vDn0y",
    "outputId": "ada1068e-dd97-4608-e8bc-3a8c74ba7406"
   },
   "outputs": [
    {
     "data": {
      "image/png": "[encoded data removed]",
      "text/latex": [
       "$\\displaystyle g m_{2} \\sin{\\left(\\theta_{2}{\\left(t \\right)} \\right)} - l_{1} m_{2} \\sin{\\left(\\theta_{1}{\\left(t \\right)} - \\theta_{2}{\\left(t \\right)} \\right)} \\left(\\frac{d}{d t} \\theta_{1}{\\left(t \\right)}\\right)^{2} + l_{1} m_{2} \\cos{\\left(\\theta_{1}{\\left(t \\right)} - \\theta_{2}{\\left(t \\right)} \\right)} \\frac{d^{2}}{d t^{2}} \\theta_{1}{\\left(t \\right)} + l_{2} m_{2} \\frac{d^{2}}{d t^{2}} \\theta_{2}{\\left(t \\right)} = 0$"
      ],
      "text/plain": [
       "                                                      2                       \n",
       "                                           ⎛d        ⎞                        \n",
       "g⋅m₂⋅sin(θ₂(t)) - l₁⋅m₂⋅sin(θ₁(t) - θ₂(t))⋅⎜──(θ₁(t))⎟  + l₁⋅m₂⋅cos(θ₁(t) - θ₂\n",
       "                                           ⎝dt       ⎠                        \n",
       "                                                                              \n",
       "\n",
       "       2                  2           \n",
       "      d                  d            \n",
       "(t))⋅───(θ₁(t)) + l₂⋅m₂⋅───(θ₂(t)) = 0\n",
       "       2                  2           \n",
       "     dt                 dt            "
      ]
     },
     "execution_count": 3,
     "metadata": {},
     "output_type": "execute_result"
    }
   ],
   "source": [
    "ode2 = sympy.Eq(m2*l2*theta2(t).diff(t,t) +\n",
    "                m2*l1*theta1(t).diff(t,t)*sympy.cos(theta1(t) - theta2(t)) -\n",
    "                m2*l1*theta1(t).diff(t)**2*sympy.sin(theta1(t) - theta2(t)) +\n",
    "                m2*g*sympy.sin(theta2(t)))\n",
    "ode2"
   ]
  },
  {
   "cell_type": "code",
   "execution_count": 4,
   "metadata": {
    "colab": {},
    "colab_type": "code",
    "id": "SPI7kYoUDr3o"
   },
   "outputs": [],
   "source": [
    "y1, y2, y3, y4 = sympy.symbols(\"y_1, y_2, y_3, y_4\", cls=sympy.Function)\n",
    "\n",
    "varchange = {theta1(t).diff(t, t): y2(t).diff(t), \n",
    "             theta1(t): y1(t),\n",
    "             theta2(t).diff(t, t): y4(t).diff(t), \n",
    "             theta2(t): y3(t)}\n",
    "\n",
    "ode1_vc = ode1.subs(varchange)\n",
    "ode2_vc = ode2.subs(varchange)\n",
    "ode3 = y1(t).diff(t) - y2(t)\n",
    "ode4 = y3(t).diff(t) - y4(t)"
   ]
  },
  {
   "cell_type": "markdown",
   "metadata": {
    "colab_type": "text",
    "id": "iG9N_k_WCZd5"
   },
   "source": [
    "2. At this point, we have four coupled first-order ODEs for the functions $y_1$ to $y_4$. It only remains to solve for the derivatives of these functions to obtain the ODEs in standard form"
   ]
  },
  {
   "cell_type": "code",
   "execution_count": 5,
   "metadata": {
    "colab": {},
    "colab_type": "code",
    "id": "bYjwYyFoDyCY"
   },
   "outputs": [],
   "source": [
    "y = sympy.Matrix([y1(t), y2(t), y3(t), y4(t)])\n",
    "vcsol = sympy.solve((ode1_vc, ode2_vc, ode3, ode4), y.diff(t), dict=True)\n",
    "f = y.diff(t).subs(vcsol[0])\n",
    "\n",
    "jac = sympy.Matrix([[fj.diff(yi) for yi in y] for fj in f])"
   ]
  },
  {
   "cell_type": "code",
   "execution_count": 6,
   "metadata": {
    "colab": {},
    "colab_type": "code",
    "id": "WZLh-G-KEMEP"
   },
   "outputs": [],
   "source": [
    "params = {m1: 5.0, l1: 2.0, m2: 1.0, l2: 1.0, g: 10.0}\n",
    "\n",
    "f_np = sympy.lambdify((t, y), f.subs(params), 'numpy')\n",
    "jac_np = sympy.lambdify((t, y), jac.subs(params), 'numpy')"
   ]
  },
  {
   "cell_type": "code",
   "execution_count": 7,
   "metadata": {
    "colab": {
     "base_uri": "https://localhost:8080/",
     "height": 387
    },
    "colab_type": "code",
    "id": "ry6ylOFIFC-7",
    "outputId": "e5167c6f-7c2d-49a3-f5a5-e408e89c29e4"
   },
   "outputs": [],
   "source": [
    "y0 = [2.0, 0, 0.0, 0]\n",
    "t = np.linspace(0, 20, 1000)\n",
    "r = integrate.ode(f_np, jac_np).set_initial_value(y0, t[0])\n",
    "\n",
    "dt = t[1] - t[0]\n",
    "y = np.zeros((len(t), len(y0)))\n",
    "idx = 0\n",
    "while r.successful() and r.t < t[-1]:\n",
    "    y[idx, :] = r.y\n",
    "    r.integrate(r.t + dt)\n",
    "    idx += 1"
   ]
  },
  {
   "cell_type": "markdown",
   "metadata": {
    "colab_type": "text",
    "id": "kTohjBtNCZd6"
   },
   "source": [
    "3. When visualizing this solution, it is more intuitive to animate the positions of the pendulums in the $x–y$ plane rather than their angular deflections"
   ]
  },
  {
   "cell_type": "code",
   "execution_count": 8,
   "metadata": {
    "colab": {},
    "colab_type": "code",
    "id": "SBSNDElWFfyD"
   },
   "outputs": [],
   "source": [
    "theta1_np, theta2_np = y[:, 0], y[:, 2]\n",
    "\n",
    "x1 =  params[l1] * np.sin(theta1_np)\n",
    "y1 = -params[l1] * np.cos(theta1_np)\n",
    "x2 = x1 + params[l2] * np.sin(theta2_np)\n",
    "y2 = y1 - params[l2] * np.cos(theta2_np)"
   ]
  },
  {
   "cell_type": "code",
   "execution_count": 9,
   "metadata": {
    "colab": {
     "base_uri": "https://localhost:8080/",
     "height": 297
    },
    "colab_type": "code",
    "id": "QEUoYcd9FqQQ",
    "outputId": "736b09f8-79aa-492b-dfe1-2b9b2dfdd397"
   },
   "outputs": [],
   "source": [
    "fig = plt.figure(figsize=(10, 4))\n",
    "\n",
    "ax1 = plt.subplot2grid((2, 5), (0, 0), colspan=3)\n",
    "ax2 = plt.subplot2grid((2, 5), (1, 0), colspan=3)\n",
    "ax3 = plt.subplot2grid((2, 5), (0, 3), colspan=2, rowspan=2)\n",
    "\n",
    "ax1.plot(t, x1, 'r')\n",
    "ax1.plot(t, y1, 'b')\n",
    "ax1.set_ylabel('$x_1, y_1$', fontsize=18)\n",
    "ax1.set_yticks([-3, 0, 3])\n",
    "ax1.set_xlim(0, 20)\n",
    "ax1.set_ylim(-3, 3)\n",
    "ax1.tick_params(which='both', direction='in')\n",
    "\n",
    "ax2.plot(t, x2, 'r')\n",
    "ax2.plot(t, y2, 'b')\n",
    "ax2.set_xlabel('$t$', fontsize=18)\n",
    "ax2.set_ylabel('$x_2, y_2$', fontsize=18)\n",
    "ax2.set_yticks([-3, 0, 3])\n",
    "ax2.set_xlim(0, 20)\n",
    "ax2.set_ylim(-3, 3)\n",
    "ax2.tick_params(which='both', direction='in')\n",
    "\n",
    "ax3.plot(x1, y1, 'r')\n",
    "ax3.plot(x2, y2, 'b', lw=0.5)\n",
    "ax3.set_xlabel('$x$', fontsize=18)\n",
    "ax3.set_ylabel('$y$', fontsize=18)\n",
    "ax3.set_xticks([-3, 0, 3])\n",
    "ax3.set_yticks([-3, 0, 3])\n",
    "ax3.set_xlim(-3, 3)\n",
    "ax3.set_ylim(-3, 3)\n",
    "ax3.tick_params(which='both', direction='in')\n",
    "\n",
    "fig.tight_layout()"
   ]
  },
  {
   "cell_type": "markdown",
   "metadata": {
    "colab_type": "text",
    "id": "uoTSrvuvCZd9"
   },
   "source": [
    "**Construct the animation showing the complex oscillation of a double pendulum**"
   ]
  },
  {
   "cell_type": "code",
   "execution_count": 11,
   "metadata": {},
   "outputs": [],
   "source": [
    "import numpy as np\n",
    "import matplotlib.pyplot as plt\n",
    "from matplotlib.lines import Line2D\n",
    "import matplotlib.animation as animation\n",
    "\n",
    "\n",
    "class SubplotAnimation(animation.TimedAnimation):\n",
    "    def __init__(self):\n",
    "        fig = plt.figure(figsize=(10, 4))\n",
    "        ax1 = plt.subplot2grid((2, 5), (0, 0), colspan=3)\n",
    "        ax2 = plt.subplot2grid((2, 5), (1, 0), colspan=3)\n",
    "        ax3 = plt.subplot2grid((2, 5), (0, 3), colspan=2, rowspan=2)\n",
    "\n",
    "        self.t = np.linspace(0, 20, 1000)\n",
    "        self.x1 =  params[l1] * np.sin(theta1_np)\n",
    "        self.y1 = -params[l1] * np.cos(theta1_np)\n",
    "        self.x2 = x1 + params[l2] * np.sin(theta2_np)\n",
    "        self.y2 = y1 - params[l2] * np.cos(theta2_np)\n",
    "\n",
    "        ax1.plot(t, x1, 'r')\n",
    "        ax1.plot(t, y1, 'b')\n",
    "        ax1.set_ylabel('$x_1, y_1$', fontsize=18)\n",
    "        ax1.set_yticks([-3, 0, 3])\n",
    "        self.line1 = Line2D([], [], color='black')\n",
    "        self.line1a = Line2D([], [], color='red', linewidth=2)\n",
    "        self.line1e = Line2D(\n",
    "            [], [], color='red', marker='o', markeredgecolor='r')\n",
    "        ax1.add_line(self.line1)\n",
    "        ax1.add_line(self.line1a)\n",
    "        ax1.add_line(self.line1e)\n",
    "        ax1.set_xlim(0, 20)\n",
    "        ax1.set_ylim(-3, 3)\n",
    "        ax1.set_aspect('equal', 'datalim')\n",
    "\n",
    "        ax2.plot(t, x2, 'r')\n",
    "        ax2.plot(t, y2, 'b')\n",
    "        ax2.set_xlabel('$t$', fontsize=18)\n",
    "        ax2.set_ylabel('$x_2, y_2$', fontsize=18)\n",
    "        ax2.set_yticks([-3, 0, 3])\n",
    "        self.line2 = Line2D([], [], color='black')\n",
    "        self.line2a = Line2D([], [], color='red', linewidth=2)\n",
    "        self.line2e = Line2D(\n",
    "            [], [], color='red', marker='o', markeredgecolor='r')\n",
    "        ax2.add_line(self.line2)\n",
    "        ax2.add_line(self.line2a)\n",
    "        ax2.add_line(self.line2e)\n",
    "        ax2.set_xlim(0, 20)\n",
    "        ax2.set_ylim(-3, 3)\n",
    "\n",
    "        ax3.plot(x1, y1, 'r')\n",
    "        ax3.plot(x2, y2, 'b', lw=0.5)\n",
    "        ax3.set_xlabel('$x$', fontsize=18)\n",
    "        ax3.set_ylabel('$y$', fontsize=18)\n",
    "        ax3.set_xticks([-3, 0, 3])\n",
    "        ax3.set_yticks([-3, 0, 3])\n",
    "        self.line3 = Line2D([], [], color='black')\n",
    "        self.line3a = Line2D([], [], color='red', linewidth=2)\n",
    "        self.line3e = Line2D(\n",
    "            [], [], color='red', marker='o', markeredgecolor='r')\n",
    "        ax3.add_line(self.line3)\n",
    "        ax3.add_line(self.line3a)\n",
    "        ax3.add_line(self.line3e)\n",
    "        ax3.set_xlim(-3, 3)\n",
    "        ax3.set_ylim(-3, 3)\n",
    "\n",
    "        animation.TimedAnimation.__init__(self, fig, interval=50, blit=True)\n",
    "\n",
    "    def _draw_frame(self, framedata):\n",
    "        i = framedata\n",
    "        head = i - 1\n",
    "        head_slice = (self.t > self.t[i] - 1.0) & (self.t < self.t[i])\n",
    "\n",
    "        self.line1.set_data(self.t[:i], self.x1[:i])\n",
    "        self.line1a.set_data(self.t[head_slice], self.x1[head_slice])\n",
    "        self.line1e.set_data(self.t[head], self.x1[head])\n",
    "\n",
    "        self.line2.set_data(self.t[:i], self.x2[:i])\n",
    "        self.line2a.set_data(self.t[head_slice], self.x2[head_slice])\n",
    "        self.line2e.set_data(self.t[head], self.x2[head])\n",
    "\n",
    "        self.line3.set_data(self.x1[:i], self.y1[:i])\n",
    "        self.line3a.set_data(self.x1[head_slice], self.y1[head_slice])\n",
    "        self.line3e.set_data(self.x1[head], self.y1[head])\n",
    "\n",
    "        self._drawn_artists = [self.line1, self.line1a, self.line1e,\n",
    "                               self.line2, self.line2a, self.line2e,\n",
    "                               self.line3, self.line3a, self.line3e]\n",
    "\n",
    "    def new_frame_seq(self):\n",
    "        return iter(range(self.t.size))\n",
    "\n",
    "    def _init_draw(self):\n",
    "        lines = [self.line1, self.line1a, self.line1e,\n",
    "                 self.line2, self.line2a, self.line2e,\n",
    "                 self.line3, self.line3a, self.line3e]\n",
    "        for l in lines:\n",
    "            l.set_data([], [])\n",
    "\n",
    "ani = SubplotAnimation()\n",
    "plt.show()"
   ]
  }
 ],
 "metadata": {
  "colab": {
   "name": "ch09_double_pendulum_animation.ipynb의 사본",
   "provenance": []
  },
  "kernelspec": {
   "display_name": "Python 3",
   "language": "python",
   "name": "python3"
  },
  "language_info": {
   "codemirror_mode": {
    "name": "ipython",
    "version": 3
   },
   "file_extension": ".py",
   "mimetype": "text/x-python",
   "name": "python",
   "nbconvert_exporter": "python",
   "pygments_lexer": "ipython3",
   "version": "3.7.6"
  }
 },
 "nbformat": 4,
 "nbformat_minor": 1
}
